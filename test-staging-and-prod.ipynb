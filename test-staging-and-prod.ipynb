{
 "cells": [
  {
   "cell_type": "code",
   "execution_count": 2,
   "id": "6e2aa897-3502-4454-b6e4-52528e35bd69",
   "metadata": {
    "tags": []
   },
   "outputs": [
    {
     "name": "stdout",
     "output_type": "stream",
     "text": [
      "account: 546801796757\n",
      "bucket: sagemaker-ap-south-1-546801796757\n",
      "region: ap-south-1\n",
      "role: arn:aws:iam::546801796757:role/sagemaker_manual_role\n"
     ]
    }
   ],
   "source": [
    "import boto3\n",
    "import sagemaker\n",
    "import time\n",
    "from time import strftime\n",
    "\n",
    "boto_session = boto3.Session()\n",
    "sagemaker_session = sagemaker.Session(boto_session=boto_session)\n",
    "sm_client = boto3.client(\"sagemaker\")\n",
    "region = boto_session.region_name\n",
    "bucket = sagemaker_session.default_bucket()\n",
    "role = sagemaker.get_execution_role()\n",
    "account = sagemaker_session.boto_session.client(\"sts\").get_caller_identity()[\"Account\"]\n",
    "\n",
    "prefix = 'sagemaker-intel-dvc'\n",
    "\n",
    "print(f\"account: {account}\")\n",
    "print(f\"bucket: {bucket}\")\n",
    "print(f\"region: {region}\")\n",
    "print(f\"role: {role}\")"
   ]
  },
  {
   "cell_type": "code",
   "execution_count": 3,
   "id": "e1281c72-f881-4a5c-8513-ce6f13617f03",
   "metadata": {
    "tags": []
   },
   "outputs": [],
   "source": [
    "from sagemaker.pytorch import PyTorchPredictor\n",
    "from sagemaker.serializers import JSONSerializer\n",
    "from sagemaker.deserializers import JSONDeserializer"
   ]
  },
  {
   "cell_type": "code",
   "execution_count": 4,
   "id": "fe50be44-1653-4321-8be0-ee401f22fe5d",
   "metadata": {
    "tags": []
   },
   "outputs": [],
   "source": [
    "predictor_new = PyTorchPredictor(\n",
    "    endpoint_name=\"last-assignment-prod\",\n",
    "    sagemaker_session=sagemaker_session,\n",
    "    serializer=JSONSerializer(),\n",
    "    deserializer=JSONDeserializer(),\n",
    ")"
   ]
  },
  {
   "cell_type": "code",
   "execution_count": 5,
   "id": "b6f19e97-01a2-4a91-bd42-8132dfcf811f",
   "metadata": {
    "tags": []
   },
   "outputs": [
    {
     "name": "stderr",
     "output_type": "stream",
     "text": [
      "/opt/conda/lib/python3.8/site-packages/tqdm/auto.py:22: TqdmWarning: IProgress not found. Please update jupyter and ipywidgets. See https://ipywidgets.readthedocs.io/en/stable/user_install.html\n",
      "  from .autonotebook import tqdm as notebook_tqdm\n"
     ]
    }
   ],
   "source": [
    "import torch\n",
    "\n",
    "import torchvision.transforms as T\n",
    "import torch.nn.functional as F\n",
    "\n",
    "from PIL import Image"
   ]
  },
  {
   "cell_type": "code",
   "execution_count": 6,
   "id": "d6f8f6f9-104c-4faa-9f0f-30465892d1fb",
   "metadata": {
    "tags": []
   },
   "outputs": [],
   "source": [
    "transforms = T.Compose([\n",
    "    T.ToTensor(),\n",
    "    T.Resize((224, 224)),\n",
    "    T.Normalize(mean=[0.485, 0.456, 0.406], std=[0.229, 0.224, 0.225])\n",
    "])"
   ]
  },
  {
   "cell_type": "code",
   "execution_count": 7,
   "id": "ea959c06-e691-4512-879a-e89305159e85",
   "metadata": {
    "tags": []
   },
   "outputs": [],
   "source": [
    "classnames = ['buildings', 'forest', 'glacier', 'mountain', 'sea', 'street']\n"
   ]
  },
  {
   "cell_type": "code",
   "execution_count": 8,
   "id": "120f4bf3-69ba-43c5-8ac1-da05a996650c",
   "metadata": {
    "tags": []
   },
   "outputs": [
    {
     "data": {
      "text/plain": [
       "'Prediction: forest'"
      ]
     },
     "execution_count": 8,
     "metadata": {},
     "output_type": "execute_result"
    }
   ],
   "source": [
    "import requests\n",
    "import numpy as np\n",
    "from PIL import Image\n",
    "from io import BytesIO\n",
    "\n",
    "# image 1 - Forest\n",
    "url = 'https://media.istockphoto.com/id/901134626/photo/sun-shining-in-a-forest.jpg?s=612x612&w=0&k=20&c=Z1GPER9EE6BQK_efVKaSO7WODScQYOMPX3TFFPCZt88='\n",
    "response = requests.get(url)\n",
    "im = Image.open(BytesIO(response.content))\n",
    "im = transforms(im)\n",
    "dummy_data = {\"inputs\": im[None, ...].numpy().tolist()}\n",
    "f\"Prediction: {classnames[torch.argmax(torch.tensor(predictor_new.predict(dummy_data)), dim=-1)[0]]}\""
   ]
  },
  {
   "cell_type": "code",
   "execution_count": 9,
   "id": "9fb9578e-deca-42fb-8f5f-6fa9995c0f76",
   "metadata": {
    "tags": []
   },
   "outputs": [
    {
     "data": {
      "text/plain": [
       "'Prediction: glacier'"
      ]
     },
     "execution_count": 9,
     "metadata": {},
     "output_type": "execute_result"
    }
   ],
   "source": [
    "import requests\n",
    "import numpy as np\n",
    "from PIL import Image\n",
    "from io import BytesIO\n",
    "\n",
    "# image 1 - Glacier\n",
    "url = 'https://media.istockphoto.com/id/1061549950/photo/calving-glacier-alaska-hubbard-glacier-a-huge-iceberg-calves-into-disenchantment-bay-st-elias.jpg?s=612x612&w=0&k=20&c=ri7A1uiTq5PI5iSxzmt22oAAOtrizXffP4JvA6nFTf4='\n",
    "response = requests.get(url)\n",
    "im = Image.open(BytesIO(response.content))\n",
    "im = transforms(im)\n",
    "dummy_data = {\"inputs\": im[None, ...].numpy().tolist()}\n",
    "f\"Prediction: {classnames[torch.argmax(torch.tensor(predictor_new.predict(dummy_data)), dim=-1)[0]]}\""
   ]
  }
 ],
 "metadata": {
  "forced_instance_type": "ml.t3.medium",
  "forced_lcc_arn": "",
  "instance_type": "ml.t3.medium",
  "kernelspec": {
   "display_name": "Python 3 (PyTorch 1.12 Python 3.8 GPU Optimized)",
   "language": "python",
   "name": "python3__SAGEMAKER_INTERNAL__arn:aws:sagemaker:ap-south-1:394103062818:image/pytorch-1.12-gpu-py38"
  },
  "language_info": {
   "codemirror_mode": {
    "name": "ipython",
    "version": 3
   },
   "file_extension": ".py",
   "mimetype": "text/x-python",
   "name": "python",
   "nbconvert_exporter": "python",
   "pygments_lexer": "ipython3",
   "version": "3.8.13"
  }
 },
 "nbformat": 4,
 "nbformat_minor": 5
}
